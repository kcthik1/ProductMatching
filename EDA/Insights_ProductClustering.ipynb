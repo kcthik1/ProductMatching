{
 "cells": [
  {
   "cell_type": "code",
   "execution_count": 1,
   "id": "993a7b74-7870-40e5-9ea2-68d4a8bb7222",
   "metadata": {},
   "outputs": [],
   "source": [
    "import pandas as pd"
   ]
  },
  {
   "cell_type": "code",
   "execution_count": 5,
   "id": "62df1fc7-4713-428c-a0d9-910b40933be7",
   "metadata": {},
   "outputs": [
    {
     "name": "stderr",
     "output_type": "stream",
     "text": [
      "C:\\Users\\LENOVO\\AppData\\Local\\Temp\\ipykernel_18472\\3223727445.py:13: DtypeWarning: Columns (0,11,17,31,32,33,35,67,72) have mixed types. Specify dtype option on import or set low_memory=False.\n",
      "  for chunk in pd.read_csv(\"products_data.csv\",on_bad_lines='skip',sep='\\t', chunksize=chunk_size):\n",
      "C:\\Users\\LENOVO\\AppData\\Local\\Temp\\ipykernel_18472\\3223727445.py:13: DtypeWarning: Columns (0,11,17,33,34,35,45,50,52,53,56,67,72) have mixed types. Specify dtype option on import or set low_memory=False.\n",
      "  for chunk in pd.read_csv(\"products_data.csv\",on_bad_lines='skip',sep='\\t', chunksize=chunk_size):\n",
      "C:\\Users\\LENOVO\\AppData\\Local\\Temp\\ipykernel_18472\\3223727445.py:13: DtypeWarning: Columns (0,11,17,33,35,67,72) have mixed types. Specify dtype option on import or set low_memory=False.\n",
      "  for chunk in pd.read_csv(\"products_data.csv\",on_bad_lines='skip',sep='\\t', chunksize=chunk_size):\n",
      "C:\\Users\\LENOVO\\AppData\\Local\\Temp\\ipykernel_18472\\3223727445.py:13: DtypeWarning: Columns (0,11,17,33,35,53,67,72) have mixed types. Specify dtype option on import or set low_memory=False.\n",
      "  for chunk in pd.read_csv(\"products_data.csv\",on_bad_lines='skip',sep='\\t', chunksize=chunk_size):\n"
     ]
    }
   ],
   "source": [
    "\n",
    "\n",
    "import pandas as pd\n",
    "\n",
    "# Define the chunk size\n",
    "chunk_size = 1000000 \n",
    "\n",
    "chunks = []\n",
    "\n",
    "for chunk in pd.read_csv(\"products_data.csv\",on_bad_lines='skip',sep='\\t', chunksize=chunk_size):\n",
    "    chunks.append(chunk)\n",
    "\n",
    "# Concatenate all chunks into a single DataFrame\n",
    "df = pd.concat(chunks, ignore_index=True)"
   ]
  },
  {
   "cell_type": "code",
   "execution_count": 6,
   "id": "8c7129ad-cca2-42f1-8fad-f715fcb16bc5",
   "metadata": {},
   "outputs": [],
   "source": [
    "#Loading only the qualified \n",
    "df_qualified = df[~(df['image_nutrition_url'].isna())]"
   ]
  },
  {
   "cell_type": "code",
   "execution_count": 7,
   "id": "48b54f68-4cd6-4663-854f-1741a9b25c18",
   "metadata": {},
   "outputs": [],
   "source": [
    "import numpy as np\n",
    "from sklearn.feature_extraction.text import TfidfVectorizer\n",
    "from sklearn.cluster import KMeans\n",
    "from sklearn.preprocessing import normalize\n",
    "import nltk\n",
    "from nltk.corpus import stopwords\n",
    "import string"
   ]
  },
  {
   "cell_type": "code",
   "execution_count": 10,
   "id": "ff0f7ba0-ec21-49cb-b4dc-db622464a6bf",
   "metadata": {},
   "outputs": [
    {
     "data": {
      "text/plain": [
       "Index(['code', 'url', 'creator', 'created_t', 'created_datetime',\n",
       "       'last_modified_t', 'last_modified_datetime', 'last_modified_by',\n",
       "       'last_updated_t', 'last_updated_datetime',\n",
       "       ...\n",
       "       'glycemic-index_100g', 'water-hardness_100g', 'choline_100g',\n",
       "       'phylloquinone_100g', 'beta-glucan_100g', 'inositol_100g',\n",
       "       'carnitine_100g', 'sulphate_100g', 'nitrate_100g', 'acidity_100g'],\n",
       "      dtype='object', length=206)"
      ]
     },
     "execution_count": 10,
     "metadata": {},
     "output_type": "execute_result"
    }
   ],
   "source": [
    "df_qualified.columns"
   ]
  },
  {
   "cell_type": "code",
   "execution_count": 8,
   "id": "6ee3e4bc-3959-40ae-86d9-132855240cab",
   "metadata": {},
   "outputs": [],
   "source": [
    "# Download NLTK stopwords\n",
    "nltk.download('stopwords', quiet=True)\n",
    "\n",
    "# Function to get stopwords for multiple languages\n",
    "def get_multilingual_stopwords():\n",
    "    languages = ['english', 'spanish', 'french', 'german', 'italian', 'portuguese', 'dutch']\n",
    "    all_stopwords = set()\n",
    "    for lang in languages:\n",
    "        all_stopwords.update(stopwords.words(lang))\n",
    "    return list(all_stopwords)"
   ]
  },
  {
   "cell_type": "code",
   "execution_count": 9,
   "id": "db9246b5-ec73-4c6a-9d68-8490189af913",
   "metadata": {},
   "outputs": [],
   "source": [
    "def multilingual_tokenizer(text):\n",
    "    # Remove punctuation and convert to lowercase\n",
    "    text = text.lower().translate(str.maketrans('', '', string.punctuation))\n",
    "    return text.split()"
   ]
  },
  {
   "cell_type": "code",
   "execution_count": 11,
   "id": "ac2dfa71-95ae-4b1a-8c62-19de828e77c4",
   "metadata": {},
   "outputs": [],
   "source": [
    "product_names = df_qualified['product_name'].astype(str)"
   ]
  },
  {
   "cell_type": "code",
   "execution_count": 12,
   "id": "9b4230e0-1db8-4bae-b960-bb6e2fe9dc70",
   "metadata": {},
   "outputs": [
    {
     "data": {
      "text/plain": [
       "1828041"
      ]
     },
     "execution_count": 12,
     "metadata": {},
     "output_type": "execute_result"
    }
   ],
   "source": [
    "len(product_names)"
   ]
  },
  {
   "cell_type": "code",
   "execution_count": 13,
   "id": "d67b991f-404d-45b3-8cac-dc51b5e86a1d",
   "metadata": {},
   "outputs": [],
   "source": [
    "# Get multilingual stopwords\n",
    "multilingual_stopwords = get_multilingual_stopwords()"
   ]
  },
  {
   "cell_type": "code",
   "execution_count": 14,
   "id": "ba129521-f6df-4ff8-aa2b-d54b02c32264",
   "metadata": {},
   "outputs": [
    {
     "data": {
      "text/plain": [
       "True"
      ]
     },
     "execution_count": 14,
     "metadata": {},
     "output_type": "execute_result"
    }
   ],
   "source": [
    "nltk.download('stopwords', quiet=True)"
   ]
  },
  {
   "cell_type": "code",
   "execution_count": 15,
   "id": "4a4080b5-9a68-4dd1-b4fd-b9e405f14cb4",
   "metadata": {},
   "outputs": [],
   "source": [
    "vectorizer = TfidfVectorizer(\n",
    "    tokenizer=multilingual_tokenizer,\n",
    "    stop_words=multilingual_stopwords,\n",
    "    ngram_range=(1, 3)  # Consider both unigrams and bigrams\n",
    ")"
   ]
  },
  {
   "cell_type": "code",
   "execution_count": 16,
   "id": "0245665b-860e-4f67-a0bc-f70475f496eb",
   "metadata": {},
   "outputs": [
    {
     "name": "stderr",
     "output_type": "stream",
     "text": [
      "C:\\Users\\LENOVO\\anaconda3\\envs\\myenv\\lib\\site-packages\\sklearn\\feature_extraction\\text.py:525: UserWarning: The parameter 'token_pattern' will not be used since 'tokenizer' is not None'\n",
      "  warnings.warn(\n",
      "C:\\Users\\LENOVO\\anaconda3\\envs\\myenv\\lib\\site-packages\\sklearn\\feature_extraction\\text.py:408: UserWarning: Your stop_words may be inconsistent with your preprocessing. Tokenizing the stop words generated tokens ['arent', 'couldnt', 'didnt', 'doesnt', 'dont', 'hadnt', 'hasnt', 'havent', 'isnt', 'mightnt', 'mustnt', 'neednt', 'shant', 'shes', 'shouldnt', 'shouldve', 'thatll', 'wasnt', 'werent', 'wont', 'wouldnt', 'youd', 'youll', 'youre', 'youve'] not in stop_words.\n",
      "  warnings.warn(\n"
     ]
    }
   ],
   "source": [
    "# Fit and transform the product names\n",
    "tfidf_matrix = vectorizer.fit_transform(product_names)\n"
   ]
  },
  {
   "cell_type": "code",
   "execution_count": 17,
   "id": "35eaad78-6b82-42b4-a6ff-0bee664f28c7",
   "metadata": {},
   "outputs": [],
   "source": [
    "# Normalize the TF-IDF matrix\n",
    "normalized_tfidf = normalize(tfidf_matrix)\n",
    "\n",
    "\n"
   ]
  },
  {
   "cell_type": "code",
   "execution_count": 18,
   "id": "8490e062-5251-4815-b151-49fef04e9e1d",
   "metadata": {},
   "outputs": [
    {
     "data": {
      "text/plain": [
       "<1828041x2258744 sparse matrix of type '<class 'numpy.float64'>'\n",
       "\twith 9856681 stored elements in Compressed Sparse Row format>"
      ]
     },
     "execution_count": 18,
     "metadata": {},
     "output_type": "execute_result"
    }
   ],
   "source": [
    "normalized_tfidf"
   ]
  },
  {
   "cell_type": "code",
   "execution_count": 19,
   "id": "98344141-9fe7-49c6-9ae9-c11defe7cb38",
   "metadata": {},
   "outputs": [
    {
     "data": {
      "text/html": [
       "<style>#sk-container-id-1 {color: black;}#sk-container-id-1 pre{padding: 0;}#sk-container-id-1 div.sk-toggleable {background-color: white;}#sk-container-id-1 label.sk-toggleable__label {cursor: pointer;display: block;width: 100%;margin-bottom: 0;padding: 0.3em;box-sizing: border-box;text-align: center;}#sk-container-id-1 label.sk-toggleable__label-arrow:before {content: \"▸\";float: left;margin-right: 0.25em;color: #696969;}#sk-container-id-1 label.sk-toggleable__label-arrow:hover:before {color: black;}#sk-container-id-1 div.sk-estimator:hover label.sk-toggleable__label-arrow:before {color: black;}#sk-container-id-1 div.sk-toggleable__content {max-height: 0;max-width: 0;overflow: hidden;text-align: left;background-color: #f0f8ff;}#sk-container-id-1 div.sk-toggleable__content pre {margin: 0.2em;color: black;border-radius: 0.25em;background-color: #f0f8ff;}#sk-container-id-1 input.sk-toggleable__control:checked~div.sk-toggleable__content {max-height: 200px;max-width: 100%;overflow: auto;}#sk-container-id-1 input.sk-toggleable__control:checked~label.sk-toggleable__label-arrow:before {content: \"▾\";}#sk-container-id-1 div.sk-estimator input.sk-toggleable__control:checked~label.sk-toggleable__label {background-color: #d4ebff;}#sk-container-id-1 div.sk-label input.sk-toggleable__control:checked~label.sk-toggleable__label {background-color: #d4ebff;}#sk-container-id-1 input.sk-hidden--visually {border: 0;clip: rect(1px 1px 1px 1px);clip: rect(1px, 1px, 1px, 1px);height: 1px;margin: -1px;overflow: hidden;padding: 0;position: absolute;width: 1px;}#sk-container-id-1 div.sk-estimator {font-family: monospace;background-color: #f0f8ff;border: 1px dotted black;border-radius: 0.25em;box-sizing: border-box;margin-bottom: 0.5em;}#sk-container-id-1 div.sk-estimator:hover {background-color: #d4ebff;}#sk-container-id-1 div.sk-parallel-item::after {content: \"\";width: 100%;border-bottom: 1px solid gray;flex-grow: 1;}#sk-container-id-1 div.sk-label:hover label.sk-toggleable__label {background-color: #d4ebff;}#sk-container-id-1 div.sk-serial::before {content: \"\";position: absolute;border-left: 1px solid gray;box-sizing: border-box;top: 0;bottom: 0;left: 50%;z-index: 0;}#sk-container-id-1 div.sk-serial {display: flex;flex-direction: column;align-items: center;background-color: white;padding-right: 0.2em;padding-left: 0.2em;position: relative;}#sk-container-id-1 div.sk-item {position: relative;z-index: 1;}#sk-container-id-1 div.sk-parallel {display: flex;align-items: stretch;justify-content: center;background-color: white;position: relative;}#sk-container-id-1 div.sk-item::before, #sk-container-id-1 div.sk-parallel-item::before {content: \"\";position: absolute;border-left: 1px solid gray;box-sizing: border-box;top: 0;bottom: 0;left: 50%;z-index: -1;}#sk-container-id-1 div.sk-parallel-item {display: flex;flex-direction: column;z-index: 1;position: relative;background-color: white;}#sk-container-id-1 div.sk-parallel-item:first-child::after {align-self: flex-end;width: 50%;}#sk-container-id-1 div.sk-parallel-item:last-child::after {align-self: flex-start;width: 50%;}#sk-container-id-1 div.sk-parallel-item:only-child::after {width: 0;}#sk-container-id-1 div.sk-dashed-wrapped {border: 1px dashed gray;margin: 0 0.4em 0.5em 0.4em;box-sizing: border-box;padding-bottom: 0.4em;background-color: white;}#sk-container-id-1 div.sk-label label {font-family: monospace;font-weight: bold;display: inline-block;line-height: 1.2em;}#sk-container-id-1 div.sk-label-container {text-align: center;}#sk-container-id-1 div.sk-container {/* jupyter's `normalize.less` sets `[hidden] { display: none; }` but bootstrap.min.css set `[hidden] { display: none !important; }` so we also need the `!important` here to be able to override the default hidden behavior on the sphinx rendered scikit-learn.org. See: https://github.com/scikit-learn/scikit-learn/issues/21755 */display: inline-block !important;position: relative;}#sk-container-id-1 div.sk-text-repr-fallback {display: none;}</style><div id=\"sk-container-id-1\" class=\"sk-top-container\"><div class=\"sk-text-repr-fallback\"><pre>KMeans(n_clusters=5, n_init=10, random_state=42)</pre><b>In a Jupyter environment, please rerun this cell to show the HTML representation or trust the notebook. <br />On GitHub, the HTML representation is unable to render, please try loading this page with nbviewer.org.</b></div><div class=\"sk-container\" hidden><div class=\"sk-item\"><div class=\"sk-estimator sk-toggleable\"><input class=\"sk-toggleable__control sk-hidden--visually\" id=\"sk-estimator-id-1\" type=\"checkbox\" checked><label for=\"sk-estimator-id-1\" class=\"sk-toggleable__label sk-toggleable__label-arrow\">KMeans</label><div class=\"sk-toggleable__content\"><pre>KMeans(n_clusters=5, n_init=10, random_state=42)</pre></div></div></div></div></div>"
      ],
      "text/plain": [
       "KMeans(n_clusters=5, n_init=10, random_state=42)"
      ]
     },
     "execution_count": 19,
     "metadata": {},
     "output_type": "execute_result"
    }
   ],
   "source": [
    "# Perform K-means clustering (adjust n_clusters as needed)\n",
    "n_clusters = 5  # You can change this number based on your needs\n",
    "kmeans = KMeans(n_clusters=n_clusters, random_state=42, n_init=10)\n",
    "kmeans.fit(normalized_tfidf)"
   ]
  },
  {
   "cell_type": "code",
   "execution_count": 20,
   "id": "9aecf73a-9fd2-4cfd-811e-ad25768bbec7",
   "metadata": {},
   "outputs": [
    {
     "name": "stderr",
     "output_type": "stream",
     "text": [
      "C:\\Users\\LENOVO\\AppData\\Local\\Temp\\ipykernel_18472\\4018986303.py:2: SettingWithCopyWarning: \n",
      "A value is trying to be set on a copy of a slice from a DataFrame.\n",
      "Try using .loc[row_indexer,col_indexer] = value instead\n",
      "\n",
      "See the caveats in the documentation: https://pandas.pydata.org/pandas-docs/stable/user_guide/indexing.html#returning-a-view-versus-a-copy\n",
      "  df_qualified['cluster'] = kmeans.labels_\n"
     ]
    }
   ],
   "source": [
    "# Add cluster labels to the original dataframe\n",
    "df_qualified['cluster'] = kmeans.labels_"
   ]
  },
  {
   "cell_type": "code",
   "execution_count": 21,
   "id": "b69201e4-2746-4612-a0ac-fc67b1bdca6e",
   "metadata": {},
   "outputs": [
    {
     "data": {
      "text/html": [
       "<div>\n",
       "<style scoped>\n",
       "    .dataframe tbody tr th:only-of-type {\n",
       "        vertical-align: middle;\n",
       "    }\n",
       "\n",
       "    .dataframe tbody tr th {\n",
       "        vertical-align: top;\n",
       "    }\n",
       "\n",
       "    .dataframe thead th {\n",
       "        text-align: right;\n",
       "    }\n",
       "</style>\n",
       "<table border=\"1\" class=\"dataframe\">\n",
       "  <thead>\n",
       "    <tr style=\"text-align: right;\">\n",
       "      <th></th>\n",
       "      <th>code</th>\n",
       "      <th>url</th>\n",
       "      <th>creator</th>\n",
       "      <th>created_t</th>\n",
       "      <th>created_datetime</th>\n",
       "      <th>last_modified_t</th>\n",
       "      <th>last_modified_datetime</th>\n",
       "      <th>last_modified_by</th>\n",
       "      <th>last_updated_t</th>\n",
       "      <th>last_updated_datetime</th>\n",
       "      <th>...</th>\n",
       "      <th>water-hardness_100g</th>\n",
       "      <th>choline_100g</th>\n",
       "      <th>phylloquinone_100g</th>\n",
       "      <th>beta-glucan_100g</th>\n",
       "      <th>inositol_100g</th>\n",
       "      <th>carnitine_100g</th>\n",
       "      <th>sulphate_100g</th>\n",
       "      <th>nitrate_100g</th>\n",
       "      <th>acidity_100g</th>\n",
       "      <th>cluster</th>\n",
       "    </tr>\n",
       "  </thead>\n",
       "  <tbody>\n",
       "    <tr>\n",
       "      <th>1</th>\n",
       "      <td>0000000000000207025004</td>\n",
       "      <td>http://world-en.openfoodfacts.org/product/0000...</td>\n",
       "      <td>kiliweb</td>\n",
       "      <td>1656948610</td>\n",
       "      <td>2022-07-04T15:30:10Z</td>\n",
       "      <td>1656948613</td>\n",
       "      <td>2022-07-04T15:30:13Z</td>\n",
       "      <td>kiliweb</td>\n",
       "      <td>1.707864e+09</td>\n",
       "      <td>2024-02-13T22:43:38Z</td>\n",
       "      <td>...</td>\n",
       "      <td>NaN</td>\n",
       "      <td>NaN</td>\n",
       "      <td>NaN</td>\n",
       "      <td>NaN</td>\n",
       "      <td>NaN</td>\n",
       "      <td>NaN</td>\n",
       "      <td>NaN</td>\n",
       "      <td>NaN</td>\n",
       "      <td>NaN</td>\n",
       "      <td>0</td>\n",
       "    </tr>\n",
       "    <tr>\n",
       "      <th>2</th>\n",
       "      <td>00000000000003429145</td>\n",
       "      <td>http://world-en.openfoodfacts.org/product/0000...</td>\n",
       "      <td>kiliweb</td>\n",
       "      <td>1630483911</td>\n",
       "      <td>2021-09-01T08:11:51Z</td>\n",
       "      <td>1682646029</td>\n",
       "      <td>2023-04-28T01:40:29Z</td>\n",
       "      <td>isabel626</td>\n",
       "      <td>1.707844e+09</td>\n",
       "      <td>2024-02-13T17:00:47Z</td>\n",
       "      <td>...</td>\n",
       "      <td>NaN</td>\n",
       "      <td>NaN</td>\n",
       "      <td>NaN</td>\n",
       "      <td>NaN</td>\n",
       "      <td>NaN</td>\n",
       "      <td>NaN</td>\n",
       "      <td>NaN</td>\n",
       "      <td>NaN</td>\n",
       "      <td>NaN</td>\n",
       "      <td>0</td>\n",
       "    </tr>\n",
       "    <tr>\n",
       "      <th>3</th>\n",
       "      <td>00000000000026772226</td>\n",
       "      <td>http://world-en.openfoodfacts.org/product/0000...</td>\n",
       "      <td>kiliweb</td>\n",
       "      <td>1654250311</td>\n",
       "      <td>2022-06-03T09:58:31Z</td>\n",
       "      <td>1654270474</td>\n",
       "      <td>2022-06-03T15:34:34Z</td>\n",
       "      <td>quentinbrd</td>\n",
       "      <td>1.707742e+09</td>\n",
       "      <td>2024-02-12T12:49:37Z</td>\n",
       "      <td>...</td>\n",
       "      <td>NaN</td>\n",
       "      <td>NaN</td>\n",
       "      <td>NaN</td>\n",
       "      <td>NaN</td>\n",
       "      <td>NaN</td>\n",
       "      <td>NaN</td>\n",
       "      <td>NaN</td>\n",
       "      <td>NaN</td>\n",
       "      <td>NaN</td>\n",
       "      <td>0</td>\n",
       "    </tr>\n",
       "    <tr>\n",
       "      <th>6</th>\n",
       "      <td>000000000003327986</td>\n",
       "      <td>http://world-en.openfoodfacts.org/product/0000...</td>\n",
       "      <td>kiliweb</td>\n",
       "      <td>1574175736</td>\n",
       "      <td>2019-11-19T15:02:16Z</td>\n",
       "      <td>1624390765</td>\n",
       "      <td>2021-06-22T19:39:25Z</td>\n",
       "      <td>sylvariane</td>\n",
       "      <td>1.707637e+09</td>\n",
       "      <td>2024-02-11T07:29:45Z</td>\n",
       "      <td>...</td>\n",
       "      <td>NaN</td>\n",
       "      <td>NaN</td>\n",
       "      <td>NaN</td>\n",
       "      <td>NaN</td>\n",
       "      <td>NaN</td>\n",
       "      <td>NaN</td>\n",
       "      <td>NaN</td>\n",
       "      <td>NaN</td>\n",
       "      <td>NaN</td>\n",
       "      <td>0</td>\n",
       "    </tr>\n",
       "    <tr>\n",
       "      <th>7</th>\n",
       "      <td>000000000004128579</td>\n",
       "      <td>http://world-en.openfoodfacts.org/product/0000...</td>\n",
       "      <td>kiliweb</td>\n",
       "      <td>1649449251</td>\n",
       "      <td>2022-04-08T20:20:51Z</td>\n",
       "      <td>1649449920</td>\n",
       "      <td>2022-04-08T20:32:00Z</td>\n",
       "      <td>roboto-app</td>\n",
       "      <td>1.707859e+09</td>\n",
       "      <td>2024-02-13T21:11:00Z</td>\n",
       "      <td>...</td>\n",
       "      <td>NaN</td>\n",
       "      <td>NaN</td>\n",
       "      <td>NaN</td>\n",
       "      <td>NaN</td>\n",
       "      <td>NaN</td>\n",
       "      <td>NaN</td>\n",
       "      <td>NaN</td>\n",
       "      <td>NaN</td>\n",
       "      <td>NaN</td>\n",
       "      <td>0</td>\n",
       "    </tr>\n",
       "  </tbody>\n",
       "</table>\n",
       "<p>5 rows × 207 columns</p>\n",
       "</div>"
      ],
      "text/plain": [
       "                     code                                                url  \\\n",
       "1  0000000000000207025004  http://world-en.openfoodfacts.org/product/0000...   \n",
       "2    00000000000003429145  http://world-en.openfoodfacts.org/product/0000...   \n",
       "3    00000000000026772226  http://world-en.openfoodfacts.org/product/0000...   \n",
       "6      000000000003327986  http://world-en.openfoodfacts.org/product/0000...   \n",
       "7      000000000004128579  http://world-en.openfoodfacts.org/product/0000...   \n",
       "\n",
       "   creator   created_t      created_datetime  last_modified_t  \\\n",
       "1  kiliweb  1656948610  2022-07-04T15:30:10Z       1656948613   \n",
       "2  kiliweb  1630483911  2021-09-01T08:11:51Z       1682646029   \n",
       "3  kiliweb  1654250311  2022-06-03T09:58:31Z       1654270474   \n",
       "6  kiliweb  1574175736  2019-11-19T15:02:16Z       1624390765   \n",
       "7  kiliweb  1649449251  2022-04-08T20:20:51Z       1649449920   \n",
       "\n",
       "  last_modified_datetime last_modified_by  last_updated_t  \\\n",
       "1   2022-07-04T15:30:13Z          kiliweb    1.707864e+09   \n",
       "2   2023-04-28T01:40:29Z        isabel626    1.707844e+09   \n",
       "3   2022-06-03T15:34:34Z       quentinbrd    1.707742e+09   \n",
       "6   2021-06-22T19:39:25Z       sylvariane    1.707637e+09   \n",
       "7   2022-04-08T20:32:00Z       roboto-app    1.707859e+09   \n",
       "\n",
       "  last_updated_datetime  ... water-hardness_100g choline_100g  \\\n",
       "1  2024-02-13T22:43:38Z  ...                 NaN          NaN   \n",
       "2  2024-02-13T17:00:47Z  ...                 NaN          NaN   \n",
       "3  2024-02-12T12:49:37Z  ...                 NaN          NaN   \n",
       "6  2024-02-11T07:29:45Z  ...                 NaN          NaN   \n",
       "7  2024-02-13T21:11:00Z  ...                 NaN          NaN   \n",
       "\n",
       "  phylloquinone_100g beta-glucan_100g inositol_100g carnitine_100g  \\\n",
       "1                NaN              NaN           NaN            NaN   \n",
       "2                NaN              NaN           NaN            NaN   \n",
       "3                NaN              NaN           NaN            NaN   \n",
       "6                NaN              NaN           NaN            NaN   \n",
       "7                NaN              NaN           NaN            NaN   \n",
       "\n",
       "  sulphate_100g nitrate_100g acidity_100g cluster  \n",
       "1           NaN          NaN          NaN       0  \n",
       "2           NaN          NaN          NaN       0  \n",
       "3           NaN          NaN          NaN       0  \n",
       "6           NaN          NaN          NaN       0  \n",
       "7           NaN          NaN          NaN       0  \n",
       "\n",
       "[5 rows x 207 columns]"
      ]
     },
     "execution_count": 21,
     "metadata": {},
     "output_type": "execute_result"
    }
   ],
   "source": [
    "df_qualified.head()"
   ]
  },
  {
   "cell_type": "code",
   "execution_count": 22,
   "id": "ed98f340-2b69-4a9b-8306-810e5f162b8c",
   "metadata": {},
   "outputs": [],
   "source": [
    "\n",
    "# Print the top terms for each cluster\n",
    "feature_names = np.array(vectorizer.get_feature_names_out())\n",
    "order_centroids = kmeans.cluster_centers_.argsort()[:, ::-1]\n"
   ]
  },
  {
   "cell_type": "code",
   "execution_count": 23,
   "id": "20a306a1-9780-4460-9519-129d54bc666a",
   "metadata": {},
   "outputs": [
    {
     "name": "stdout",
     "output_type": "stream",
     "text": [
      "Top terms per cluster:\n",
      "Cluster 0:\n",
      " chocolate bio sauce extra queso poulet chicken milk chips protein\n",
      "\n",
      "Cluster 1:\n",
      " yogurt greek greek yogurt intero yogurt intero magro yogurt magro greco yogurt greco bianco\n",
      "\n",
      "Cluster 2:\n",
      " lait chocolat lait chocolat gras foie gras foie gras canard entier foie gras canard canard\n",
      "\n",
      "Cluster 3:\n",
      " nan 🫒 feel good kefir feel good slim feel good selection feel good proteine feel good protein feel good organic feel good mix feel good indulgence\n",
      "\n",
      "Cluster 4:\n",
      " chocolat chocolat noir noir pain chocolat pépites pépites chocolat pain chocolat blanc mousse chocolat blanc\n",
      "\n"
     ]
    }
   ],
   "source": [
    "print(\"Top terms per cluster:\")\n",
    "for i in range(n_clusters):\n",
    "    print(f\"Cluster {i}:\")\n",
    "    for ind in order_centroids[i, :10]:\n",
    "        print(f\" {feature_names[ind]}\", end='')\n",
    "    print('\\n')\n"
   ]
  },
  {
   "cell_type": "code",
   "execution_count": 27,
   "id": "af61a868-5c0a-412d-8b34-45e1ecfe441e",
   "metadata": {},
   "outputs": [
    {
     "data": {
      "text/plain": [
       "cluster\n",
       "0    1729506\n",
       "3      53531\n",
       "4      20856\n",
       "2      15499\n",
       "1       8649\n",
       "Name: count, dtype: int64"
      ]
     },
     "execution_count": 27,
     "metadata": {},
     "output_type": "execute_result"
    }
   ],
   "source": [
    "#Cluster Statistics\n",
    "df_qualified['cluster'].value_counts()"
   ]
  },
  {
   "cell_type": "code",
   "execution_count": null,
   "id": "a75d879c-3b0e-4d4b-a459-224689957cd9",
   "metadata": {},
   "outputs": [],
   "source": []
  }
 ],
 "metadata": {
  "kernelspec": {
   "display_name": "Python 3 (ipykernel)",
   "language": "python",
   "name": "python3"
  },
  "language_info": {
   "codemirror_mode": {
    "name": "ipython",
    "version": 3
   },
   "file_extension": ".py",
   "mimetype": "text/x-python",
   "name": "python",
   "nbconvert_exporter": "python",
   "pygments_lexer": "ipython3",
   "version": "3.8.0"
  }
 },
 "nbformat": 4,
 "nbformat_minor": 5
}
